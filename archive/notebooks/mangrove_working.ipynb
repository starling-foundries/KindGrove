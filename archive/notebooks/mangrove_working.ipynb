{
 "cells": [
  {
   "cell_type": "markdown",
   "metadata": {},
   "source": [
    "# Mangrove Biomass Estimation: Thor Heyerdahl Climate Park\\n",
    "\\nSimplified working version for OGC demonstration"
   ]
  },
  {
   "cell_type": "code",
   "execution_count": null,
   "metadata": {},
   "outputs": [],
   "source": [
    "import numpy as np\\n",
    "import pandas as pd\\n",
    "import plotly.graph_objects as go\\n",
    "import plotly.express as px\\n",
    "from plotly.subplots import make_subplots"
   ]
  },
  {
   "cell_type": "markdown",
   "metadata": {},
   "source": [
    "## Configuration & Data Generation"
   ]
  },
  {
   "cell_type": "code",
   "execution_count": null,
   "metadata": {},
   "outputs": [],
   "source": [
    "# Configuration\\n",
    "LOCATION = 'Thor Heyerdahl Climate Park, Myanmar'\\n",
    "CENTER_LON, CENTER_LAT = 94.75, 16.75\\n",
    "BOUNDS = {'west': 94.7, 'east': 94.8, 'south': 16.7, 'north': 16.8}\\n",
    "GRID_SIZE = 30  # Reduced for performance\\n",
    "\\n",
    "# Create grid\\n",
    "lons = np.linspace(BOUNDS['west'], BOUNDS['east'], GRID_SIZE)\\n",
    "lats = np.linspace(BOUNDS['south'], BOUNDS['north'], GRID_SIZE)\\n",
    "lon_grid, lat_grid = np.meshgrid(lons, lats)\\n",
    "\\n",
    "# Generate NDVI and biomass\\n",
    "np.random.seed(42)\\n",
    "distance = np.sqrt((lon_grid - CENTER_LON)**2 + (lat_grid - CENTER_LAT)**2)\\n",
    "ndvi = 0.75 * np.exp(-distance * 20) + 0.3\\n",
    "ndvi += 0.1 * np.sin(lon_grid * 200) * np.cos(lat_grid * 200)\\n",
    "ndvi += np.random.normal(0, 0.02, lon_grid.shape)\\n",
    "ndvi = np.clip(ndvi, 0.2, 0.9)\\n",
    "\\n",
    "biomass = np.maximum(250.5 * ndvi - 75.2, 0)\\n",
    "\\n",
    "print(f'Generated {GRID_SIZE}x{GRID_SIZE} grid = {GRID_SIZE**2} data points')"
   ]
  },
  {
   "cell_type": "markdown",
   "metadata": {},
   "source": [
    "## Basic Map Visualization"
   ]
  },
  {
   "cell_type": "code",
   "execution_count": null,
   "metadata": {},
   "outputs": [],
   "source": [
    "# Create DataFrame\\n",
    "df = pd.DataFrame({\\n",
    "    'lon': lon_grid.flatten(),\\n",
    "    'lat': lat_grid.flatten(),\\n",
    "    'biomass': biomass.flatten(),\\n",
    "    'ndvi': ndvi.flatten()\\n",
    "})\\n",
    "\\n",
    "# Create scatter mapbox (correct syntax)\\n",
    "fig = go.Figure()\\n",
    "\\n",
    "fig.add_trace(go.Scattermapbox(\\n",
    "    lon=df['lon'],\\n",
    "    lat=df['lat'],\\n",
    "    mode='markers',\\n",
    "    marker=dict(\\n",
    "        size=10,\\n",
    "        color=df['biomass'],\\n",
    "        colorscale='Viridis',\\n",
    "        showscale=True,\\n",
    "        colorbar=dict(\\n",
    "            title='Biomass<br>(Mg/ha)',\\n",
    "            thickness=20\\n",
    "        )\\n",
    "    ),\\n",
    "    text=[f'Biomass: {b:.1f} Mg/ha' for b in df['biomass']],\\n",
    "    hovertemplate='%{text}<br>Lon: %{lon:.4f}<br>Lat: %{lat:.4f}<extra></extra>'\\n",
    "))\\n",
    "\\n",
    "# Update layout with correct mapbox syntax\\n",
    "fig.update_layout(\\n",
    "    mapbox=dict(\\n",
    "        style='open-street-map',\\n",
    "        center=dict(lon=CENTER_LON, lat=CENTER_LAT),\\n",
    "        zoom=10\\n",
    "    ),\\n",
    "    height=600,\\n",
    "    title=f'Mangrove Biomass - {LOCATION}',\\n",
    "    margin=dict(l=0, r=0, t=30, b=0)\\n",
    ")\\n",
    "\\n",
    "fig.show()"
   ]
  },
  {
   "cell_type": "markdown",
   "metadata": {},
   "source": [
    "## Heatmap Visualization"
   ]
  },
  {
   "cell_type": "code",
   "execution_count": null,
   "metadata": {},
   "outputs": [],
   "source": [
    "# Create heatmap (2D grid view)\\n",
    "fig = go.Figure(data=go.Heatmap(\\n",
    "    x=lons,\\n",
    "    y=lats,\\n",
    "    z=biomass,\\n",
    "    colorscale='Viridis',\\n",
    "    colorbar=dict(title='Biomass (Mg/ha)')\\n",
    "))\\n",
    "\\n",
    "fig.update_layout(\\n",
    "    title='Biomass Distribution Heatmap',\\n",
    "    xaxis_title='Longitude',\\n",
    "    yaxis_title='Latitude',\\n",
    "    height=500,\\n",
    "    width=600\\n",
    ")\\n",
    "\\n",
    "fig.show()"
   ]
  },
  {
   "cell_type": "markdown",
   "metadata": {},
   "source": [
    "## 3D Surface Visualization"
   ]
  },
  {
   "cell_type": "code",
   "execution_count": null,
   "metadata": {},
   "outputs": [],
   "source": [
    "# 3D surface plot\\n",
    "fig = go.Figure(data=[go.Surface(\\n",
    "    x=lons,\\n",
    "    y=lats,\\n",
    "    z=biomass,\\n",
    "    colorscale='Viridis',\\n",
    "    colorbar=dict(title='Biomass<br>(Mg/ha)')\\n",
    ")])\\n",
    "\\n",
    "fig.update_layout(\\n",
    "    title='3D Biomass Surface',\\n",
    "    scene=dict(\\n",
    "        xaxis_title='Longitude',\\n",
    "        yaxis_title='Latitude',\\n",
    "        zaxis_title='Biomass (Mg/ha)',\\n",
    "        camera=dict(\\n",
    "            eye=dict(x=1.5, y=-1.5, z=1.5)\\n",
    "        )\\n",
    "    ),\\n",
    "    height=600\\n",
    ")\\n",
    "\\n",
    "fig.show()"
   ]
  },
  {
   "cell_type": "markdown",
   "metadata": {},
   "source": [
    "## Statistical Analysis Dashboard"
   ]
  },
  {
   "cell_type": "code",
   "execution_count": null,
   "metadata": {},
   "outputs": [],
   "source": [
    "# Create subplots for analysis\\n",
    "fig = make_subplots(\\n",
    "    rows=2, cols=2,\\n",
    "    subplot_titles=(\\n",
    "        'Biomass Distribution',\\n",
    "        'NDVI vs Biomass',\\n",
    "        'Spatial Pattern',\\n",
    "        'Latitude Profile'\\n",
    "    ),\\n",
    "    specs=[\\n",
    "        [{'type': 'histogram'}, {'type': 'scatter'}],\\n",
    "        [{'type': 'heatmap'}, {'type': 'scatter'}]\\n",
    "    ]\\n",
    ")\\n",
    "\\n",
    "# 1. Histogram\\n",
    "fig.add_trace(\\n",
    "    go.Histogram(x=df['biomass'], nbinsx=25, marker_color='green'),\\n",
    "    row=1, col=1\\n",
    ")\\n",
    "\\n",
    "# 2. NDVI vs Biomass scatter\\n",
    "fig.add_trace(\\n",
    "    go.Scatter(\\n",
    "        x=df['ndvi'], y=df['biomass'],\\n",
    "        mode='markers',\\n",
    "        marker=dict(size=5, color='darkgreen', opacity=0.5)\\n",
    "    ),\\n",
    "    row=1, col=2\\n",
    ")\\n",
    "\\n",
    "# 3. Spatial heatmap\\n",
    "fig.add_trace(\\n",
    "    go.Heatmap(x=lons, y=lats, z=biomass, colorscale='Viridis', showscale=False),\\n",
    "    row=2, col=1\\n",
    ")\\n",
    "\\n",
    "# 4. Latitude profile\\n",
    "lat_means = df.groupby(pd.cut(df['lat'], 10))['biomass'].mean().reset_index()\\n",
    "lat_means['lat_mid'] = lat_means['lat'].apply(lambda x: x.mid if hasattr(x, 'mid') else np.nan)\\n",
    "lat_means = lat_means.dropna()\\n",
    "\\n",
    "fig.add_trace(\\n",
    "    go.Scatter(\\n",
    "        x=lat_means['lat_mid'], y=lat_means['biomass'],\\n",
    "        mode='lines+markers',\\n",
    "        line=dict(color='darkgreen', width=2)\\n",
    "    ),\\n",
    "    row=2, col=2\\n",
    ")\\n",
    "\\n",
    "# Update layout\\n",
    "fig.update_xaxes(title_text='Biomass (Mg/ha)', row=1, col=1)\\n",
    "fig.update_xaxes(title_text='NDVI', row=1, col=2)\\n",
    "fig.update_xaxes(title_text='Longitude', row=2, col=1)\\n",
    "fig.update_xaxes(title_text='Latitude', row=2, col=2)\\n",
    "fig.update_yaxes(title_text='Count', row=1, col=1)\\n",
    "fig.update_yaxes(title_text='Biomass (Mg/ha)', row=1, col=2)\\n",
    "fig.update_yaxes(title_text='Latitude', row=2, col=1)\\n",
    "fig.update_yaxes(title_text='Mean Biomass', row=2, col=2)\\n",
    "\\n",
    "fig.update_layout(height=700, showlegend=False, title_text='Biomass Analysis Dashboard')\\n",
    "fig.show()"
   ]
  },
  {
   "cell_type": "markdown",
   "metadata": {},
   "source": [
    "## Summary Statistics"
   ]
  },
  {
   "cell_type": "code",
   "execution_count": null,
   "metadata": {},
   "outputs": [],
   "source": [
    "# Calculate statistics\\n",
    "stats = {\\n",
    "    'Location': LOCATION,\\n",
    "    'Center Coordinates': f'{CENTER_LAT:.3f}°N, {CENTER_LON:.3f}°E',\\n",
    "    'Grid Points': len(df),\\n",
    "    'Mean Biomass (Mg/ha)': df['biomass'].mean(),\\n",
    "    'Max Biomass (Mg/ha)': df['biomass'].max(),\\n",
    "    'Min Biomass (Mg/ha)': df['biomass'].min(),\\n",
    "    'Std Dev (Mg/ha)': df['biomass'].std(),\\n",
    "    'Mean NDVI': df['ndvi'].mean()\\n",
    "}\\n",
    "\\n",
    "# Display as DataFrame\\n",
    "stats_df = pd.DataFrame(list(stats.items()), columns=['Metric', 'Value'])\\n",
    "\\n",
    "# Format numeric values\\n",
    "for idx in range(3, len(stats_df)):\\n",
    "    if isinstance(stats_df.loc[idx, 'Value'], (int, float)):\\n",
    "        stats_df.loc[idx, 'Value'] = f'{stats_df.loc[idx, \"Value\"]:.2f}'\\n",
    "\\n",
    "print('\\\\n=== MANGROVE BIOMASS SUMMARY ===\\\\n')\\n",
    "for _, row in stats_df.iterrows():\\n",
    "    print(f'{row[\"Metric\"]}: {row[\"Value\"]}')"
   ]
  },
  {
   "cell_type": "markdown",
   "metadata": {},
   "source": [
    "## Carbon Stock Estimation"
   ]
  },
  {
   "cell_type": "code",
   "execution_count": null,
   "metadata": {},
   "outputs": [],
   "source": [
    "# Carbon calculations\\n",
    "area_ha = 11000  # Approximate park area in hectares\\n",
    "mean_biomass = df['biomass'].mean()\\n",
    "total_biomass = mean_biomass * area_ha\\n",
    "carbon_fraction = 0.47  # Standard for mangroves\\n",
    "carbon_stock = total_biomass * carbon_fraction\\n",
    "co2_equivalent = carbon_stock * 3.67  # CO2/C ratio\\n",
    "\\n",
    "# Create visualization\\n",
    "carbon_data = pd.DataFrame({\\n",
    "    'Category': ['Total Biomass', 'Carbon Stock', 'CO₂ Equivalent'],\\n",
    "    'Value': [total_biomass, carbon_stock, co2_equivalent],\\n",
    "    'Unit': ['Mg', 'Mg C', 'Mg CO₂']\\n",
    "})\\n",
    "\\n",
    "fig = go.Figure(data=[\\n",
    "    go.Bar(\\n",
    "        x=carbon_data['Category'],\\n",
    "        y=carbon_data['Value'],\\n",
    "        text=[f'{v:,.0f} {u}' for v, u in zip(carbon_data['Value'], carbon_data['Unit'])],\\n",
    "        textposition='auto',\\n",
    "        marker_color=['green', 'darkgreen', 'lightgreen']\\n",
    "    )\\n",
    "])\\n",
    "\\n",
    "fig.update_layout(\\n",
    "    title='Carbon Stock Assessment',\\n",
    "    yaxis_title='Amount (Mg)',\\n",
    "    height=400\\n",
    ")\\n",
    "\\n",
    "fig.show()\\n",
    "\\n",
    "print(f'\\\\nEstimated carbon credit value (@$15/tCO₂): ${carbon_stock * 15:,.0f} USD')"
   ]
  }
 ],
 "metadata": {
  "kernelspec": {
   "display_name": "Python 3",
   "language": "python",
   "name": "python3"
  },
  "language_info": {
   "codemirror_mode": {
    "name": "ipython",
    "version": 3
   },
   "file_extension": ".py",
   "mimetype": "text/x-python",
   "name": "python",
   "nbconvert_exporter": "python",
   "pygments_lexer": "ipython3",
   "version": "3.9.0"
  }
 },
 "nbformat": 4,
 "nbformat_minor": 4
}