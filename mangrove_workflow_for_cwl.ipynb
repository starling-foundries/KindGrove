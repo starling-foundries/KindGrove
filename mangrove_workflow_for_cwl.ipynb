{
 "cells": [
  {
   "cell_type": "markdown",
   "metadata": {},
   "source": [
    "# Mangrove Biomass Workflow - CWL Compatible\n",
    "\n",
    "Simplified version for CWL generation using ipython2cwl.\n",
    "\n",
    "**Inputs:**\n",
    "- Bounding box coordinates (west, south, east, north)\n",
    "- Cloud cover threshold\n",
    "- Days to search backwards\n",
    "\n",
    "**Outputs:**\n",
    "- Biomass summary CSV\n",
    "- Carbon summary CSV\n",
    "- Mangrove mask GeoTIFF"
   ]
  },
  {
   "cell_type": "code",
   "execution_count": null,
   "metadata": {},
   "outputs": [],
   "source": [
    "# Core imports\n",
    "import numpy as np\n",
    "import pandas as pd\n",
    "import xarray as xr\n",
    "from datetime import datetime, timedelta\n",
    "from pystac_client import Client\n",
    "import stackstac\n",
    "import rioxarray\n",
    "import warnings\n",
    "warnings.filterwarnings('ignore')"
   ]
  },
  {
   "cell_type": "code",
   "execution_count": null,
   "metadata": {},
   "outputs": [],
   "source": [
    "# CWL Type annotations\n",
    "from ipython2cwl.iotypes import (\n",
    "    CWLFilePathInput,\n",
    "    CWLFilePathOutput,\n",
    "    CWLFloatInput,\n",
    "    CWLIntInput,\n",
    "    CWLStringInput\n",
    ")"
   ]
  },
  {
   "cell_type": "code",
   "execution_count": null,
   "metadata": {},
   "outputs": [],
   "source": [
    "# Input parameters with CWL type annotations\n",
    "west: 'CWLFloatInput' = 95.15\n",
    "south: 'CWLFloatInput' = 15.9\n",
    "east: 'CWLFloatInput' = 95.35\n",
    "north: 'CWLFloatInput' = 16.1\n",
    "cloud_cover_max: 'CWLIntInput' = 20\n",
    "days_back: 'CWLIntInput' = 90\n",
    "output_dir: 'CWLStringInput' = 'outputs'"
   ]
  },
  {
   "cell_type": "code",
   "execution_count": null,
   "metadata": {},
   "outputs": [],
   "source": [
    "# Create output directory\n",
    "import os\n",
    "os.makedirs(output_dir, exist_ok=True)\n",
    "print(f\"Output directory: {output_dir}\")"
   ]
  },
  {
   "cell_type": "code",
   "execution_count": null,
   "metadata": {},
   "outputs": [],
   "source": [
    "# Step 1: Search STAC catalog for Sentinel-2 imagery\n",
    "print(f\"Searching for Sentinel-2 scenes...\")\n",
    "print(f\"Bounds: ({west}, {south}) to ({east}, {north})\")\n",
    "print(f\"Max cloud cover: {cloud_cover_max}%\")\n",
    "\n",
    "catalog = Client.open('https://earth-search.aws.element84.com/v1')\n",
    "bbox = [west, south, east, north]\n",
    "\n",
    "end_date = datetime.now()\n",
    "start_date = end_date - timedelta(days=days_back)\n",
    "\n",
    "search = catalog.search(\n",
    "    collections=['sentinel-2-l2a'],\n",
    "    bbox=bbox,\n",
    "    datetime=f'{start_date.isoformat()}/{end_date.isoformat()}',\n",
    "    query={'eo:cloud_cover': {'lt': cloud_cover_max}}\n",
    ")\n",
    "\n",
    "items = list(search.items())\n",
    "print(f\"Found {len(items)} scenes\")\n",
    "\n",
    "if len(items) == 0:\n",
    "    raise ValueError(f\"No scenes found with <{cloud_cover_max}% cloud cover\")"
   ]
  },
  {
   "cell_type": "code",
   "execution_count": null,
   "metadata": {},
   "outputs": [],
   "source": [
    "# Step 2: Download best scene (lowest cloud cover)\n",
    "best_item = min(items, key=lambda x: x.properties.get('eo:cloud_cover', 100))\n",
    "print(f\"Selected scene: {best_item.datetime.strftime('%Y-%m-%d')}\")\n",
    "print(f\"Cloud cover: {best_item.properties.get('eo:cloud_cover', 'N/A'):.1f}%\")\n",
    "\n",
    "print(\"Downloading bands (red, green, nir)...\")\n",
    "sentinel2_lazy = stackstac.stack(\n",
    "    [best_item],\n",
    "    assets=['red', 'green', 'nir'],\n",
    "    epsg=4326,\n",
    "    resolution=0.0001,  # ~10m\n",
    "    chunksize=(1, 1, 2048, 2048)\n",
    ")\n",
    "\n",
    "# Compute and clip to bounds\n",
    "sentinel2_full = sentinel2_lazy.compute()\n",
    "sentinel2_data = sentinel2_full.sel(\n",
    "    x=slice(bbox[0], bbox[2]),\n",
    "    y=slice(bbox[3], bbox[1])\n",
    ")\n",
    "\n",
    "print(f\"Data shape: {sentinel2_data.shape}\")"
   ]
  },
  {
   "cell_type": "code",
   "execution_count": null,
   "metadata": {},
   "outputs": [],
   "source": [
    "# Step 3: Extract bands and calculate vegetation indices\n",
    "print(\"Calculating vegetation indices...\")\n",
    "\n",
    "# Extract bands\n",
    "if 'time' in sentinel2_data.dims:\n",
    "    red = sentinel2_data.sel(band='red').isel(time=0).values\n",
    "    green = sentinel2_data.sel(band='green').isel(time=0).values\n",
    "    nir = sentinel2_data.sel(band='nir').isel(time=0).values\n",
    "else:\n",
    "    red = sentinel2_data.sel(band='red').values\n",
    "    green = sentinel2_data.sel(band='green').values\n",
    "    nir = sentinel2_data.sel(band='nir').values\n",
    "\n",
    "# Calculate indices\n",
    "ndvi = (nir - red) / (nir + red + 1e-8)\n",
    "ndwi = (green - nir) / (green + nir + 1e-8)\n",
    "savi = ((nir - red) / (nir + red + 0.5)) * 1.5\n",
    "\n",
    "print(f\"NDVI range: {np.nanmin(ndvi):.3f} to {np.nanmax(ndvi):.3f}\")"
   ]
  },
  {
   "cell_type": "code",
   "execution_count": null,
   "metadata": {},
   "outputs": [],
   "source": [
    "# Step 4: Detect mangroves using threshold classification\n",
    "print(\"Detecting mangroves...\")\n",
    "\n",
    "mangrove_mask = (\n",
    "    (ndvi > 0.3) &       # Vegetated\n",
    "    (ndvi < 0.9) &       # Not upland forest\n",
    "    (ndwi > -0.3) &      # Near water\n",
    "    (savi > 0.2)         # Adjusted vegetation\n",
    ").astype(float)\n",
    "\n",
    "pixel_area_m2 = 10 * 10\n",
    "mangrove_pixels = np.sum(mangrove_mask)\n",
    "mangrove_area_ha = (mangrove_pixels * pixel_area_m2) / 10000\n",
    "\n",
    "print(f\"Detected mangrove area: {mangrove_area_ha:.1f} hectares\")\n",
    "print(f\"Coverage: {(mangrove_pixels / mangrove_mask.size * 100):.1f}% of study area\")"
   ]
  },
  {
   "cell_type": "code",
   "execution_count": null,
   "metadata": {},
   "outputs": [],
   "source": [
    "# Step 5: Estimate biomass using allometric equation\n",
    "print(\"Estimating biomass...\")\n",
    "\n",
    "# Allometric model: AGB = 250.5 × NDVI - 75.2\n",
    "biomass = 250.5 * ndvi - 75.2\n",
    "biomass_masked = np.where(mangrove_mask > 0, biomass, np.nan)\n",
    "biomass_masked = np.maximum(biomass_masked, 0)\n",
    "\n",
    "valid_biomass = biomass_masked[~np.isnan(biomass_masked)]\n",
    "\n",
    "if len(valid_biomass) > 0:\n",
    "    mean_biomass = np.mean(valid_biomass)\n",
    "    median_biomass = np.median(valid_biomass)\n",
    "    max_biomass = np.max(valid_biomass)\n",
    "    std_biomass = np.std(valid_biomass)\n",
    "    \n",
    "    print(f\"Mean biomass: {mean_biomass:.1f} Mg/ha\")\n",
    "    print(f\"Median biomass: {median_biomass:.1f} Mg/ha\")\n",
    "    print(f\"Max biomass: {max_biomass:.1f} Mg/ha\")\n",
    "else:\n",
    "    print(\"Warning: No valid biomass estimates\")\n",
    "    mean_biomass = 0\n",
    "    median_biomass = 0\n",
    "    max_biomass = 0\n",
    "    std_biomass = 0"
   ]
  },
  {
   "cell_type": "code",
   "execution_count": null,
   "metadata": {},
   "outputs": [],
   "source": [
    "# Step 6: Calculate carbon stocks\n",
    "print(\"Calculating carbon stocks...\")\n",
    "\n",
    "pixel_area_ha = (10 * 10) / 10000\n",
    "total_biomass_mg = np.sum(valid_biomass) * pixel_area_ha if len(valid_biomass) > 0 else 0\n",
    "carbon_stock_mg = total_biomass_mg * 0.47  # 47% carbon content\n",
    "co2_equivalent_mg = carbon_stock_mg * 3.67  # CO2 to C ratio\n",
    "\n",
    "print(f\"Total biomass: {total_biomass_mg:,.0f} Mg\")\n",
    "print(f\"Carbon stock: {carbon_stock_mg:,.0f} Mg C\")\n",
    "print(f\"CO2 equivalent: {co2_equivalent_mg:,.0f} Mg CO2\")"
   ]
  },
  {
   "cell_type": "code",
   "execution_count": null,
   "metadata": {},
   "outputs": [],
   "source": [
    "# Step 7: Export biomass summary CSV\n",
    "biomass_summary_path: 'CWLFilePathOutput' = os.path.join(output_dir, 'biomass_summary.csv')\n",
    "\n",
    "biomass_df = pd.DataFrame([\n",
    "    {'Metric': 'Mangrove Area (ha)', 'Value': f'{mangrove_area_ha:.1f}'},\n",
    "    {'Metric': 'Mean Biomass (Mg/ha)', 'Value': f'{mean_biomass:.1f}'},\n",
    "    {'Metric': 'Median Biomass (Mg/ha)', 'Value': f'{median_biomass:.1f}'},\n",
    "    {'Metric': 'Max Biomass (Mg/ha)', 'Value': f'{max_biomass:.1f}'},\n",
    "    {'Metric': 'Std Deviation (Mg/ha)', 'Value': f'{std_biomass:.1f}'},\n",
    "])\n",
    "\n",
    "biomass_df.to_csv(biomass_summary_path, index=False)\n",
    "print(f\"Saved: {biomass_summary_path}\")"
   ]
  },
  {
   "cell_type": "code",
   "execution_count": null,
   "metadata": {},
   "outputs": [],
   "source": [
    "# Step 8: Export carbon summary CSV\n",
    "carbon_summary_path: 'CWLFilePathOutput' = os.path.join(output_dir, 'carbon_summary.csv')\n",
    "\n",
    "carbon_df = pd.DataFrame([\n",
    "    {'Metric': 'Total Biomass (Mg)', 'Value': f'{total_biomass_mg:,.0f}'},\n",
    "    {'Metric': 'Carbon Stock (Mg C)', 'Value': f'{carbon_stock_mg:,.0f}'},\n",
    "    {'Metric': 'CO2 Equivalent (Mg CO2)', 'Value': f'{co2_equivalent_mg:,.0f}'},\n",
    "    {'Metric': 'Analysis Date', 'Value': datetime.now().strftime('%Y-%m-%d')},\n",
    "    {'Metric': 'Scene Date', 'Value': best_item.datetime.strftime('%Y-%m-%d')},\n",
    "    {'Metric': 'Cloud Cover (%)', 'Value': f\"{best_item.properties.get('eo:cloud_cover', 'N/A'):.1f}\"},\n",
    "    {'Metric': 'Uncertainty', 'Value': '±30%'},\n",
    "])\n",
    "\n",
    "carbon_df.to_csv(carbon_summary_path, index=False)\n",
    "print(f\"Saved: {carbon_summary_path}\")"
   ]
  },
  {
   "cell_type": "code",
   "execution_count": null,
   "metadata": {},
   "outputs": [],
   "source": [
    "# Step 9: Export mangrove mask as GeoTIFF\n",
    "mangrove_mask_path: 'CWLFilePathOutput' = os.path.join(output_dir, 'mangrove_mask.tif')\n",
    "\n",
    "# Create xarray DataArray with spatial reference\n",
    "if 'x' in sentinel2_data.coords and 'y' in sentinel2_data.coords:\n",
    "    mask_xr = xr.DataArray(\n",
    "        mangrove_mask,\n",
    "        dims=['y', 'x'],\n",
    "        coords={\n",
    "            'x': sentinel2_data.coords['x'].values,\n",
    "            'y': sentinel2_data.coords['y'].values\n",
    "        }\n",
    "    )\n",
    "    mask_xr = mask_xr.rio.write_crs('EPSG:4326')\n",
    "    mask_xr.rio.to_raster(mangrove_mask_path, compress='lzw')\n",
    "    print(f\"Saved: {mangrove_mask_path}\")\n",
    "else:\n",
    "    print(\"Warning: Could not export GeoTIFF (missing coordinates)\")\n",
    "    # Save as simple array instead\n",
    "    np.savetxt(mangrove_mask_path.replace('.tif', '.csv'), mangrove_mask, delimiter=',', fmt='%.0f')\n",
    "    print(f\"Saved as CSV instead: {mangrove_mask_path.replace('.tif', '.csv')}\")"
   ]
  },
  {
   "cell_type": "code",
   "execution_count": null,
   "metadata": {},
   "outputs": [],
   "source": [
    "# Final summary\n",
    "print(\"\\n=== WORKFLOW COMPLETE ===\")\n",
    "print(f\"Study area: ({west}, {south}) to ({east}, {north})\")\n",
    "print(f\"Mangrove area: {mangrove_area_ha:.1f} ha\")\n",
    "print(f\"Mean biomass: {mean_biomass:.1f} Mg/ha\")\n",
    "print(f\"Total carbon: {carbon_stock_mg:,.0f} Mg C\")\n",
    "print(f\"\\nOutputs saved to: {output_dir}/\")"
   ]
  }
 ],
 "metadata": {
  "kernelspec": {
   "display_name": "Python 3",
   "language": "python",
   "name": "python3"
  },
  "language_info": {
   "codemirror_mode": {
    "name": "ipython",
    "version": 3
   },
   "file_extension": ".py",
   "mimetype": "text/x-python",
   "name": "python",
   "nbconvert_exporter": "python",
   "pygments_lexer": "ipython3",
   "version": "3.8.0"
  }
 },
 "nbformat": 4,
 "nbformat_minor": 4
}
